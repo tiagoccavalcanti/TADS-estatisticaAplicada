{
 "cells": [
  {
   "cell_type": "markdown",
   "id": "7e448ca3",
   "metadata": {},
   "source": [
    "# Meu querido notebook"
   ]
  },
  {
   "cell_type": "markdown",
   "id": "4f9465ec",
   "metadata": {},
   "source": [
    "estou criando um notebook, mas o meu professor disse para nao usar ;)"
   ]
  },
  {
   "cell_type": "markdown",
   "id": "0f3718f8",
   "metadata": {},
   "source": [
    "## Meu primeiro codigo em python"
   ]
  },
  {
   "cell_type": "code",
   "execution_count": null,
   "id": "ae2756a7",
   "metadata": {},
   "outputs": [
    {
     "name": "stdout",
     "output_type": "stream",
     "text": [
      "\n"
     ]
    }
   ],
   "source": [
    "print(\"\")"
   ]
  }
 ],
 "metadata": {
  "kernelspec": {
   "display_name": "Python 3",
   "language": "python",
   "name": "python3"
  },
  "language_info": {
   "codemirror_mode": {
    "name": "ipython",
    "version": 3
   },
   "file_extension": ".py",
   "mimetype": "text/x-python",
   "name": "python",
   "nbconvert_exporter": "python",
   "pygments_lexer": "ipython3",
   "version": "3.12.1"
  }
 },
 "nbformat": 4,
 "nbformat_minor": 5
}
